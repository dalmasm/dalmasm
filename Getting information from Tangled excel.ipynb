{
 "cells": [
  {
   "cell_type": "markdown",
   "id": "02e1de68",
   "metadata": {},
   "source": [
    "# How to extract tangled information from Excel?"
   ]
  },
  {
   "cell_type": "markdown",
   "id": "23021623",
   "metadata": {},
   "source": [
    "####  Working for a company I have to research historical infomation of local sugar prices. So I found a webpage were prices are reported in a weekly basis informing daily variation. \n",
    "#### The main problem is that information is presented in a horrible way and cannot get a direct way to generate historical price variation line chart or do comparison. \n",
    "#### So, I develop an algorithm in Python to get that information in a tidy way. "
   ]
  },
  {
   "cell_type": "markdown",
   "id": "ce297ac7",
   "metadata": {},
   "source": [
    "#### Import libraries"
   ]
  },
  {
   "cell_type": "code",
   "execution_count": 70,
   "id": "e9380a44",
   "metadata": {},
   "outputs": [],
   "source": [
    "import pandas as pd\n",
    "import openpyxl\n",
    "import numpy as np\n",
    "import xlsxwriter\n",
    "import matplotlib.pyplot as plt"
   ]
  },
  {
   "cell_type": "markdown",
   "id": "0b9471b1",
   "metadata": {},
   "source": [
    "#### Upload of base file "
   ]
  },
  {
   "cell_type": "code",
   "execution_count": 71,
   "id": "0b68b5b3",
   "metadata": {},
   "outputs": [],
   "source": [
    "file_base = pd.read_excel(\"C:\\\\Documentos\\\\archivo azucar local\\\\azucar actualizado.xlsx\")"
   ]
  },
  {
   "cell_type": "markdown",
   "id": "75df757a",
   "metadata": {},
   "source": [
    "##### Next we can show how data is presented. Theres is tangled, there are a lot of NaN values, data format is not the best."
   ]
  },
  {
   "cell_type": "code",
   "execution_count": 73,
   "id": "dadde1a0",
   "metadata": {
    "scrolled": true
   },
   "outputs": [
    {
     "name": "stdout",
     "output_type": "stream",
     "text": [
      "                                            Unnamed: 0   Unnamed: 1  \\\n",
      "0    PRECIO ESTIMADO POR BOLSA (COMUN TIPO A) DE 50...          NaN   \n",
      "1                                                  NaN          NaN   \n",
      "2                                                  NaN          NaN   \n",
      "3                                                Fecha         50Kg   \n",
      "4                                                  NaN          NaN   \n",
      "..                                                 ...          ...   \n",
      "716                                2023-01-29 00:00:00         9200   \n",
      "717                                2023-01-30 00:00:00         9250   \n",
      "718                                2023-01-31 00:00:00         9250   \n",
      "719                                           Promedio  8252.419355   \n",
      "720                                        Variac prom     0.178564   \n",
      "\n",
      "     Unnamed: 2  Unnamed: 3  Unnamed: 4 Unnamed: 5 Unnamed: 6    Unnamed: 7  \\\n",
      "0           NaN         NaN         NaN        NaN        NaN           NaN   \n",
      "1           NaN         NaN         NaN        NaN        NaN           NaN   \n",
      "2           NaN         NaN         NaN        NaN        NaN           NaN   \n",
      "3           1Kg       s/iva         T/C       U$/K      Fecha          50Kg   \n",
      "4           NaN         NaN         NaN        NaN        NaN           NaN   \n",
      "..          ...         ...         ...        ...        ...           ...   \n",
      "716         184  152.066116       193.5   0.785871        NaN           NaN   \n",
      "717         185  152.892562         194   0.788106        NaN           NaN   \n",
      "718         185  152.892562       194.2   0.787294        NaN           NaN   \n",
      "719  165.048387  136.403626  188.983871   0.721248   Promedio  10203.035714   \n",
      "720    0.178564    0.178564    0.056671   0.114549        NaN      0.236369   \n",
      "\n",
      "     Unnamed: 8  Unnamed: 9  ... Unnamed: 62 Unnamed: 63 Unnamed: 64  \\\n",
      "0           NaN         NaN  ...         NaN         NaN         NaN   \n",
      "1           NaN         NaN  ...         NaN         NaN         NaN   \n",
      "2           NaN         NaN  ...         NaN         NaN         NaN   \n",
      "3           1Kg       s/iva  ...         1Kg       s/iva         T/C   \n",
      "4           NaN         NaN  ...         1.1    0.909091         NaN   \n",
      "..          ...         ...  ...         ...         ...         ...   \n",
      "716         NaN         NaN  ...           0           0         NaN   \n",
      "717         NaN         NaN  ...           0           0         NaN   \n",
      "718         NaN         NaN  ...         NaN         NaN         NaN   \n",
      "719  204.060714  168.645218  ...           0           0         NaN   \n",
      "720    0.236369    0.236369  ...          -1          -1         NaN   \n",
      "\n",
      "    Unnamed: 65          Unnamed: 66 Unnamed: 67 Unnamed: 68 Unnamed: 69  \\\n",
      "0           NaN                  NaN         NaN         NaN         NaN   \n",
      "1           NaN                  NaN         NaN         NaN         NaN   \n",
      "2           NaN                  NaN         NaN         NaN         NaN   \n",
      "3          U$/K                Fecha        50Kg         1Kg       s/iva   \n",
      "4           NaN  2007-12-01 00:00:00          64        1.28    1.057851   \n",
      "..          ...                  ...         ...         ...         ...   \n",
      "716         NaN                  NaN         NaN           0           0   \n",
      "717         NaN                  NaN         NaN         NaN         NaN   \n",
      "718         NaN                  NaN         NaN         NaN         NaN   \n",
      "719         NaN             Promedio         NaN           0           0   \n",
      "720         NaN                  NaN         NaN         NaN         NaN   \n",
      "\n",
      "    Unnamed: 70 Unnamed: 71  \n",
      "0           NaN         NaN  \n",
      "1           NaN         NaN  \n",
      "2           NaN         NaN  \n",
      "3           T/C        U$/K  \n",
      "4           NaN         NaN  \n",
      "..          ...         ...  \n",
      "716         NaN         NaN  \n",
      "717         NaN         NaN  \n",
      "718         NaN         NaN  \n",
      "719         NaN         NaN  \n",
      "720         NaN         NaN  \n",
      "\n",
      "[721 rows x 72 columns]\n"
     ]
    }
   ],
   "source": [
    "print(file_base)"
   ]
  },
  {
   "cell_type": "markdown",
   "id": "4a652da6",
   "metadata": {},
   "source": [
    "#### Convertion process will be shown:\n",
    "##### 1) Convert to Pandas dataframe"
   ]
  },
  {
   "cell_type": "code",
   "execution_count": 74,
   "id": "b4a70610",
   "metadata": {},
   "outputs": [],
   "source": [
    "file_df = pd.DataFrame(file_base)"
   ]
  },
  {
   "cell_type": "markdown",
   "id": "423c5aa4",
   "metadata": {},
   "source": [
    "##### 2) We select the dates and prices locating them on the file"
   ]
  },
  {
   "cell_type": "code",
   "execution_count": 75,
   "id": "6ac9af6c",
   "metadata": {},
   "outputs": [],
   "source": [
    "fechas1 = file_df.iloc[689:719, 0]\n",
    "datos1 = file_df.iloc[689:719, 3]\n",
    "\n",
    "fechas2 = file_df.iloc[688:719, 6]\n",
    "datos2 = file_df.iloc[688:719, 9]\n",
    "\n",
    "fechas3 = file_df.iloc[688:719, 12]\n",
    "datos3 = file_df.iloc[688:719, 15]\n",
    "\n",
    "fechas4 = file_df.iloc[688:719, 18]\n",
    "datos4 = file_df.iloc[688:719, 21]"
   ]
  },
  {
   "cell_type": "markdown",
   "id": "498fbde8",
   "metadata": {},
   "source": [
    "##### 3) Generate a dataframe with dates"
   ]
  },
  {
   "cell_type": "code",
   "execution_count": 95,
   "id": "fad0d061",
   "metadata": {
    "scrolled": true
   },
   "outputs": [
    {
     "name": "stderr",
     "output_type": "stream",
     "text": [
      "C:\\Users\\dalma\\AppData\\Local\\Temp\\ipykernel_9224\\1669808148.py:2: FutureWarning: The series.append method is deprecated and will be removed from pandas in a future version. Use pandas.concat instead.\n",
      "  fechas1.append(fechas2, ignore_index=True).append(\n"
     ]
    }
   ],
   "source": [
    "fecha = pd.DataFrame(\n",
    "  fechas1.append(fechas2, ignore_index=True).append(\n",
    "    fechas3, ignore_index=True).append(\n",
    "    fechas4, ignore_index=True))\n"
   ]
  },
  {
   "cell_type": "markdown",
   "id": "b0b7f59c",
   "metadata": {},
   "source": [
    "##### 4) Put prices in a dataframe"
   ]
  },
  {
   "cell_type": "code",
   "execution_count": 97,
   "id": "32085df2",
   "metadata": {
    "scrolled": true
   },
   "outputs": [
    {
     "name": "stderr",
     "output_type": "stream",
     "text": [
      "C:\\Users\\dalma\\AppData\\Local\\Temp\\ipykernel_9224\\713458459.py:2: FutureWarning: The series.append method is deprecated and will be removed from pandas in a future version. Use pandas.concat instead.\n",
      "  datos1.append(datos2, ignore_index=True).append(datos3, ignore_index=True).append(datos4, ignore_index=True))\n"
     ]
    }
   ],
   "source": [
    "precio = pd.DataFrame(\n",
    "  datos1.append(datos2, ignore_index=True).append(datos3, ignore_index=True).append(datos4, ignore_index=True))"
   ]
  },
  {
   "cell_type": "markdown",
   "id": "30b62d4d",
   "metadata": {},
   "source": [
    "##### 5) Generate a new df concatenating both, prices and dates. Then clean the NaN values"
   ]
  },
  {
   "cell_type": "code",
   "execution_count": 98,
   "id": "17a46749",
   "metadata": {},
   "outputs": [],
   "source": [
    "nuevo_df = pd.concat({'Fecha': fecha, 'Precio': precio}, axis=1)"
   ]
  },
  {
   "cell_type": "code",
   "execution_count": 104,
   "id": "938bda79",
   "metadata": {},
   "outputs": [],
   "source": [
    "nuevo_df = nuevo_df.dropna()"
   ]
  },
  {
   "cell_type": "code",
   "execution_count": 105,
   "id": "79980270",
   "metadata": {
    "scrolled": true
   },
   "outputs": [
    {
     "data": {
      "text/html": [
       "<div>\n",
       "<style scoped>\n",
       "    .dataframe tbody tr th:only-of-type {\n",
       "        vertical-align: middle;\n",
       "    }\n",
       "\n",
       "    .dataframe tbody tr th {\n",
       "        vertical-align: top;\n",
       "    }\n",
       "\n",
       "    .dataframe thead tr th {\n",
       "        text-align: left;\n",
       "    }\n",
       "</style>\n",
       "<table border=\"1\" class=\"dataframe\">\n",
       "  <thead>\n",
       "    <tr>\n",
       "      <th></th>\n",
       "      <th>Fecha</th>\n",
       "      <th>Precio</th>\n",
       "    </tr>\n",
       "    <tr>\n",
       "      <th></th>\n",
       "      <th>0</th>\n",
       "      <th>0</th>\n",
       "    </tr>\n",
       "  </thead>\n",
       "  <tbody>\n",
       "    <tr>\n",
       "      <th>0</th>\n",
       "      <td>2023-01-02</td>\n",
       "      <td>123.966942</td>\n",
       "    </tr>\n",
       "    <tr>\n",
       "      <th>1</th>\n",
       "      <td>2023-01-03</td>\n",
       "      <td>125.619835</td>\n",
       "    </tr>\n",
       "    <tr>\n",
       "      <th>2</th>\n",
       "      <td>2023-01-04</td>\n",
       "      <td>127.272727</td>\n",
       "    </tr>\n",
       "    <tr>\n",
       "      <th>3</th>\n",
       "      <td>2023-01-05</td>\n",
       "      <td>129.669421</td>\n",
       "    </tr>\n",
       "    <tr>\n",
       "      <th>4</th>\n",
       "      <td>2023-01-06</td>\n",
       "      <td>129.752066</td>\n",
       "    </tr>\n",
       "    <tr>\n",
       "      <th>...</th>\n",
       "      <td>...</td>\n",
       "      <td>...</td>\n",
       "    </tr>\n",
       "    <tr>\n",
       "      <th>98</th>\n",
       "      <td>2023-04-07</td>\n",
       "      <td>216.528926</td>\n",
       "    </tr>\n",
       "    <tr>\n",
       "      <th>99</th>\n",
       "      <td>2023-04-08</td>\n",
       "      <td>217.355372</td>\n",
       "    </tr>\n",
       "    <tr>\n",
       "      <th>100</th>\n",
       "      <td>2023-04-09</td>\n",
       "      <td>218.181818</td>\n",
       "    </tr>\n",
       "    <tr>\n",
       "      <th>101</th>\n",
       "      <td>2023-04-10</td>\n",
       "      <td>219.008264</td>\n",
       "    </tr>\n",
       "    <tr>\n",
       "      <th>102</th>\n",
       "      <td>2023-04-11</td>\n",
       "      <td>219.834711</td>\n",
       "    </tr>\n",
       "  </tbody>\n",
       "</table>\n",
       "<p>100 rows × 2 columns</p>\n",
       "</div>"
      ],
      "text/plain": [
       "         Fecha      Precio\n",
       "             0           0\n",
       "0   2023-01-02  123.966942\n",
       "1   2023-01-03  125.619835\n",
       "2   2023-01-04  127.272727\n",
       "3   2023-01-05  129.669421\n",
       "4   2023-01-06  129.752066\n",
       "..         ...         ...\n",
       "98  2023-04-07  216.528926\n",
       "99  2023-04-08  217.355372\n",
       "100 2023-04-09  218.181818\n",
       "101 2023-04-10  219.008264\n",
       "102 2023-04-11  219.834711\n",
       "\n",
       "[100 rows x 2 columns]"
      ]
     },
     "execution_count": 105,
     "metadata": {},
     "output_type": "execute_result"
    }
   ],
   "source": [
    "nuevo_df.head(100)"
   ]
  },
  {
   "cell_type": "markdown",
   "id": "de31e187",
   "metadata": {},
   "source": [
    "#### As we can see above we have a dataframe with dates and prices clean. So now we can work with them, for example check pice tendency in a line chart, as shown next "
   ]
  },
  {
   "cell_type": "code",
   "execution_count": 103,
   "id": "4d797af4",
   "metadata": {},
   "outputs": [
    {
     "data": {
      "image/png": "[encoded data removed]",
      "text/plain": [
       "<Figure size 1000x600 with 1 Axes>"
      ]
     },
     "metadata": {},
     "output_type": "display_data"
    }
   ],
   "source": [
    "df_subset = nuevo_df.loc[2:98, ['Fecha', 'Precio']]\n",
    "fechas_subset = df_subset['Fecha']\n",
    "precios_subset = df_subset['Precio']\n",
    "\n",
    "plt.figure(figsize=(10,6))\n",
    "\n",
    "plt.plot(fechas_subset, precios_subset, label='Precio')\n",
    "plt.title('Precio a lo largo del tiempo')\n",
    "plt.xlabel('Fecha')\n",
    "plt.ylabel('Precio')\n",
    "plt.legend()\n",
    "plt.show()"
   ]
  },
  {
   "cell_type": "code",
   "execution_count": null,
   "id": "c6e2e7ac",
   "metadata": {},
   "outputs": [],
   "source": []
  }
 ],
 "metadata": {
  "kernelspec": {
   "display_name": "Python 3 (ipykernel)",
   "language": "python",
   "name": "python3"
  },
  "language_info": {
   "codemirror_mode": {
    "name": "ipython",
    "version": 3
   },
   "file_extension": ".py",
   "mimetype": "text/x-python",
   "name": "python",
   "nbconvert_exporter": "python",
   "pygments_lexer": "ipython3",
   "version": "3.10.9"
  }
 },
 "nbformat": 4,
 "nbformat_minor": 5
}
