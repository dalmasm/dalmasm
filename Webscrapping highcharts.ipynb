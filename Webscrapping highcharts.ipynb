{
 "cells": [
  {
   "cell_type": "markdown",
   "id": "3e0b4760",
   "metadata": {},
   "source": [
    "# WEBSCRAPPING HIGHCHARTS\n",
    "\n",
    "#### I need to obtain information about price evolution of a dairy product call Butter Oil (AMF). I found a website that publish the price on monthly basis that infom Fonterra index. \n",
    "#### Complexity here is given by that information is on highcharts (Javascript based library  with interactive charting capability)\n",
    "\n",
    "#### So, I solved it with the code shown below"
   ]
  },
  {
   "cell_type": "markdown",
   "id": "a027ed81",
   "metadata": {},
   "source": [
    "\n",
    "*Import Libraries*"
   ]
  },
  {
   "cell_type": "code",
   "execution_count": 37,
   "id": "b75ac17e",
   "metadata": {},
   "outputs": [],
   "source": [
    "from selenium.webdriver.common.by import By\n",
    "from selenium.webdriver.support.ui import WebDriverWait\n",
    "from selenium.webdriver.support import expected_conditions as EC\n",
    "from selenium import webdriver\n",
    "import time\n",
    "import pandas as pd"
   ]
  },
  {
   "cell_type": "code",
   "execution_count": 38,
   "id": "b3691a33",
   "metadata": {},
   "outputs": [],
   "source": [
    "# Highcharts are interactive charts that give different infomation like price trend,\n",
    "# trade volume per month, contracts carried out, etc\n",
    "# See the graph below:"
   ]
  },
  {
   "cell_type": "markdown",
   "id": "446fe0dc",
   "metadata": {},
   "source": [
    "\n",
    "<img src=\"amf.jpg\" width='700px'>"
   ]
  },
  {
   "cell_type": "markdown",
   "id": "d2c567ff",
   "metadata": {},
   "source": [
    "##### Website that content that graph is show below. Besides I establish the connection. "
   ]
  },
  {
   "cell_type": "code",
   "execution_count": 47,
   "id": "50eff085",
   "metadata": {},
   "outputs": [
    {
     "data": {
      "text/plain": [
       "<selenium.webdriver.remote.webelement.WebElement (session=\"442b9cd7fe5f149a0c9d0051ed8121c3\", element=\"8B15B05CA509B841A88C1219EF82CC04_element_40\")>"
      ]
     },
     "execution_count": 47,
     "metadata": {},
     "output_type": "execute_result"
    }
   ],
   "source": [
    "website = 'https://www.clal.it/en/?section=asta_fonterra'\n",
    "driver = webdriver.Chrome()\n",
    "#WebDriverWait(driver, 20).until(EC.number_of_windows_to_be(2))\n",
    "driver.get(website)\n",
    "time.sleep(10)   \n",
    "WebDriverWait(driver, 10).until(\n",
    "    EC.presence_of_element_located((By.CLASS_NAME, 'highcharts-container'))\n",
    "    )"
   ]
  },
  {
   "cell_type": "markdown",
   "id": "c1a01250",
   "metadata": {},
   "source": [
    "##### Now we are going to define a function to extract dates and prices from graph show above. "
   ]
  },
  {
   "cell_type": "code",
   "execution_count": 48,
   "id": "0ce0f850",
   "metadata": {},
   "outputs": [],
   "source": [
    "def all_high_charts(driver,chart,series):\n",
    "    dates=  driver.execute_script(f\"return Highcharts.charts[{chart}].series[{series}].data.map(x => x.category)\")\n",
    "    values= driver.execute_script(f\"return Highcharts.charts[{chart}].series[{series}].data.map(y => y.series).map(y=> y.yData)[0]\")\n",
    "    \n",
    "    return pd.DataFrame({'date':dates, 'values':values})"
   ]
  },
  {
   "cell_type": "markdown",
   "id": "55183f72",
   "metadata": {},
   "source": [
    "##### Then we select give the number of chat and serie from chat I want to get te information and store it in a python dataframe"
   ]
  },
  {
   "cell_type": "code",
   "execution_count": 49,
   "id": "fee03eba",
   "metadata": {},
   "outputs": [],
   "source": [
    "df2=all_high_charts(driver,chart=6,series=9)"
   ]
  },
  {
   "cell_type": "markdown",
   "id": "2d5ce08c",
   "metadata": {},
   "source": [
    "###### Results are show next"
   ]
  },
  {
   "cell_type": "code",
   "execution_count": 50,
   "id": "a1beec8b",
   "metadata": {},
   "outputs": [
    {
     "name": "stdout",
     "output_type": "stream",
     "text": [
      "        date       values\n",
      "0   Oct 2021  6068.242628\n",
      "1   Nov 2021  6427.955115\n",
      "2   Dec 2021  6695.848413\n",
      "3   Jan 2022  6694.300035\n",
      "4   Feb 2022  6844.253829\n",
      "5   Mar 2022  7078.945914\n",
      "6   Apr 2022  6848.061528\n",
      "7   May 2022  6025.290375\n",
      "8   Jun 2022  6055.326952\n",
      "9   Jul 2022  5643.157083\n",
      "10  Aug 2022  5255.863805\n",
      "11  Sep 2022  5779.356149\n",
      "12  Oct 2022  5738.192776\n",
      "13  Nov 2022  5635.669719\n",
      "14  Dec 2022  5735.442673\n",
      "15  Jan 2023  5365.265700\n",
      "16  Feb 2023  5515.024306\n",
      "17  Mar 2023  5245.892104\n",
      "18  Apr 2023  4855.831002\n",
      "19  May 2023  4716.024286\n",
      "20  Jun 2023  4743.084112\n",
      "21  Jul 2023  4658.857409\n",
      "22  Aug 2023  4576.568464\n",
      "23  Sep 2023  4660.409696\n",
      "24  Oct 2023  5121.496034\n"
     ]
    }
   ],
   "source": [
    "print(df2)"
   ]
  },
  {
   "cell_type": "markdown",
   "id": "5876de17",
   "metadata": {},
   "source": [
    "### So, I got the information from highchart using webscrapping and now I have the data available to graph, download in a excel, etc.\n",
    "### I particularly use this information to study tendences, prices seasonability, etc to run bids in order to get better prices for the company that employs me."
   ]
  },
  {
   "cell_type": "code",
   "execution_count": null,
   "id": "30a0639e",
   "metadata": {},
   "outputs": [],
   "source": []
  }
 ],
 "metadata": {
  "kernelspec": {
   "display_name": "Python 3 (ipykernel)",
   "language": "python",
   "name": "python3"
  },
  "language_info": {
   "codemirror_mode": {
    "name": "ipython",
    "version": 3
   },
   "file_extension": ".py",
   "mimetype": "text/x-python",
   "name": "python",
   "nbconvert_exporter": "python",
   "pygments_lexer": "ipython3",
   "version": "3.10.9"
  }
 },
 "nbformat": 4,
 "nbformat_minor": 5
}
